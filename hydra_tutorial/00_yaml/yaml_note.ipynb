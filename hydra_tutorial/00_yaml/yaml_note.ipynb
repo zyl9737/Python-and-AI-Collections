{
 "cells": [
  {
   "cell_type": "markdown",
   "metadata": {},
   "source": [
    "# YAML 笔记\n",
    "YAML: YAML Ain't Markup Language™ 可以参考[w3教程](https://www.runoob.com/w3cnote/yaml-intro.html)\n",
    "\n",
    "What It Is:\n",
    "\n",
    "       YAML is a human-friendly data serialization language for all programming languages.\n",
    "       \n",
    "语法上需要注意的几个点：\n",
    "* 大小写敏感\n",
    "* 使用缩进表示层级关系\n",
    "* 缩进不允许使用tab，只允许空格\n",
    "* 缩进的空格数不重要，只要相同层级的元素左对齐即可\n",
    "* '#'表示注释\n",
    "\n",
    "可以表示：\n",
    "* 纯量（scalar）：浮点数，整型，时间戳，字符串等\n",
    "* 列表 list\n",
    "* 字典"
   ]
  },
  {
   "cell_type": "code",
   "execution_count": 1,
   "metadata": {},
   "outputs": [
    {
     "name": "stdout",
     "output_type": "stream",
     "text": [
      "Looking in indexes: https://mirrors.tuna.tsinghua.edu.cn/pypi/web/simple\n",
      "Requirement already satisfied: pyyaml in /home/zyl/anaconda3/envs/d2l/lib/python3.9/site-packages (6.0.1)\n"
     ]
    }
   ],
   "source": [
    "!pip install pyyaml"
   ]
  },
  {
   "cell_type": "code",
   "execution_count": 2,
   "metadata": {},
   "outputs": [],
   "source": [
    "import yaml"
   ]
  },
  {
   "cell_type": "code",
   "execution_count": 5,
   "metadata": {},
   "outputs": [],
   "source": [
    "import pprint\n",
    "pp = pprint.PrettyPrinter(indent=4)"
   ]
  },
  {
   "cell_type": "markdown",
   "metadata": {},
   "source": [
    "## 表示纯量\n"
   ]
  },
  {
   "cell_type": "raw",
   "metadata": {},
   "source": [
    "boolean: TRUE  #true,True都可以\n",
    "float: 3.14\n",
    "int: 123\n",
    "nodeName: node\n",
    "parent: ~  #使用~表示null\n",
    "string: 'Hello world'  #可以使用双引号或者单引号包裹特殊字符\n",
    "date: 2018-02-17    #日期必须使用ISO 8601格式，即yyyy-MM-dd\n",
    "datetime:  2018-02-17T15:02:31+08:00    #时间使用ISO 8601格式，时间和日期之间使用T连接，最后使用+代表时区"
   ]
  },
  {
   "cell_type": "code",
   "execution_count": 7,
   "metadata": {},
   "outputs": [
    {
     "name": "stdout",
     "output_type": "stream",
     "text": [
      "/home/zyl/notebook/hydra_tutorial/00_yaml\n"
     ]
    }
   ],
   "source": [
    "!pwd"
   ]
  },
  {
   "cell_type": "code",
   "execution_count": 6,
   "metadata": {},
   "outputs": [
    {
     "name": "stdout",
     "output_type": "stream",
     "text": [
      "{   'boolean': True,\n",
      "    'date': datetime.date(2018, 2, 17),\n",
      "    'datetime': datetime.datetime(2018, 2, 17, 15, 2, 31, tzinfo=datetime.timezone(datetime.timedelta(seconds=28800))),\n",
      "    'float': 3.14,\n",
      "    'int': 123,\n",
      "    'nodeName': 'node',\n",
      "    'parent': None,\n",
      "    'string': 'Hello world'}\n"
     ]
    }
   ],
   "source": [
    "with open(\"example.yaml\", \"r\") as stream:\n",
    "    pp.pprint(yaml.safe_load(stream))"
   ]
  },
  {
   "cell_type": "markdown",
   "metadata": {},
   "source": [
    "## 表示列表\n",
    "\n",
    "以 - 开头的行表示构成一个list\n",
    "\n",
    "也可以用 [] 来表示一个list\n"
   ]
  },
  {
   "cell_type": "raw",
   "metadata": {},
   "source": [
    "- 1\n",
    "- 2\n",
    "- 3"
   ]
  },
  {
   "cell_type": "code",
   "execution_count": 17,
   "metadata": {},
   "outputs": [
    {
     "name": "stdout",
     "output_type": "stream",
     "text": [
      "[1, 2, 3]\n"
     ]
    }
   ],
   "source": [
    "with open(\"example.yaml\", \"r\") as stream:\n",
    "    pp.pprint(yaml.safe_load(stream))"
   ]
  },
  {
   "cell_type": "raw",
   "metadata": {},
   "source": [
    "number:\n",
    "  - 1\n",
    "  - 2\n",
    "  - 3\n",
    "digit: [one, two, three]"
   ]
  },
  {
   "cell_type": "code",
   "execution_count": 11,
   "metadata": {},
   "outputs": [
    {
     "name": "stdout",
     "output_type": "stream",
     "text": [
      "{'digit': ['one', 'two', 'three'], 'number': [1, 2, 3]}\n"
     ]
    }
   ],
   "source": [
    "with open(\"example.yaml\", \"r\") as stream:\n",
    "    pp.pprint(yaml.safe_load(stream))"
   ]
  },
  {
   "cell_type": "markdown",
   "metadata": {},
   "source": [
    "## 表示字典 "
   ]
  },
  {
   "cell_type": "raw",
   "metadata": {},
   "source": [
    "key: \n",
    "    child-key: value\n",
    "    child-key2: value2"
   ]
  },
  {
   "cell_type": "code",
   "execution_count": 12,
   "metadata": {},
   "outputs": [
    {
     "name": "stdout",
     "output_type": "stream",
     "text": [
      "{'key': {'child-key': 'value', 'child-key2': 'value2'}}\n"
     ]
    }
   ],
   "source": [
    "with open(\"example.yaml\", \"r\") as stream:\n",
    "    pp.pprint(yaml.safe_load(stream))"
   ]
  },
  {
   "cell_type": "markdown",
   "metadata": {},
   "source": [
    "## 嵌套的例子"
   ]
  },
  {
   "cell_type": "raw",
   "metadata": {},
   "source": [
    "languages:\n",
    "  - Ruby\n",
    "  - Perl\n",
    "  - Python \n",
    "websites:\n",
    "  YAML: yaml.org \n",
    "  Ruby: ruby-lang.org \n",
    "  Python: python.org \n",
    "  Perl: use.perl.org"
   ]
  },
  {
   "cell_type": "raw",
   "metadata": {},
   "source": [
    "companies:\n",
    "    -\n",
    "        id: 1\n",
    "        name: company1\n",
    "        price: 200W\n",
    "    -\n",
    "        id: 2\n",
    "        name: company2\n",
    "        price: 500W"
   ]
  },
  {
   "cell_type": "code",
   "execution_count": 8,
   "metadata": {},
   "outputs": [
    {
     "name": "stdout",
     "output_type": "stream",
     "text": [
      "{   'companies': [   {'id': 1, 'name': 'company1', 'price': '200W'},\n",
      "                     {'id': 2, 'name': 'company2', 'price': '500W'}]}\n"
     ]
    }
   ],
   "source": [
    "with open(\"example.yaml\", \"r\") as stream:\n",
    "    pp.pprint(yaml.safe_load(stream))"
   ]
  },
  {
   "cell_type": "markdown",
   "metadata": {},
   "source": [
    "## 引用\n",
    "& 锚点和 * 别名，可以用来引用\n"
   ]
  },
  {
   "cell_type": "raw",
   "metadata": {},
   "source": [
    "account: &account\n",
    "  user: root\n",
    "  pass: 1234\n",
    "db:\n",
    "  driver: mysql\n",
    "  <<: *account\n"
   ]
  },
  {
   "cell_type": "code",
   "execution_count": 14,
   "metadata": {},
   "outputs": [
    {
     "name": "stdout",
     "output_type": "stream",
     "text": [
      "{   'account': {'pass': 1234, 'user': 'root'},\n",
      "    'db': {'driver': 'mysql', 'pass': 1234, 'user': 'root'}}\n"
     ]
    }
   ],
   "source": [
    "with open(\"example.yaml\", \"r\") as stream:\n",
    "    pp.pprint(yaml.safe_load(stream))"
   ]
  },
  {
   "cell_type": "raw",
   "metadata": {},
   "source": [
    "account: &account\n",
    "  user: root\n",
    "  pass: 1234\n",
    "db:\n",
    "  driver: mysql\n",
    "  account: *account\n"
   ]
  },
  {
   "cell_type": "code",
   "execution_count": 10,
   "metadata": {},
   "outputs": [
    {
     "name": "stdout",
     "output_type": "stream",
     "text": [
      "{   'account': {'pass': 1234, 'user': 'root'},\n",
      "    'db': {'driver': 'mysql', 'pass': 1234, 'user': 'root'}}\n"
     ]
    }
   ],
   "source": [
    "with open(\"example.yaml\", \"r\") as stream:\n",
    "    pp.pprint(yaml.safe_load(stream))"
   ]
  }
 ],
 "metadata": {
  "kernelspec": {
   "display_name": "d2l",
   "language": "python",
   "name": "d2l"
  },
  "language_info": {
   "codemirror_mode": {
    "name": "ipython",
    "version": 3
   },
   "file_extension": ".py",
   "mimetype": "text/x-python",
   "name": "python",
   "nbconvert_exporter": "python",
   "pygments_lexer": "ipython3",
   "version": "3.9.18"
  }
 },
 "nbformat": 4,
 "nbformat_minor": 4
}
