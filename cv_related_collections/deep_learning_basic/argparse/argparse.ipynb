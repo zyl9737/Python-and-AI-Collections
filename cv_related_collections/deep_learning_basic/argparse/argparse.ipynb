{
 "cells": [
  {
   "cell_type": "markdown",
   "metadata": {
    "collapsed": false
   },
   "source": [
    "## 1、添加参数"
   ]
  },
  {
   "cell_type": "code",
   "execution_count": 4,
   "metadata": {
    "collapsed": false
   },
   "outputs": [
    {
     "name": "stdout",
     "output_type": "stream",
     "text": [
      "args : Namespace(girlfriend=None, food='/home/zyl/.local/share/jupyter/runtime/kernel-v2-49651q43UVMtr9ogA.json', house=0)\n",
      "girlfriend : None\n",
      "food : /home/zyl/.local/share/jupyter/runtime/kernel-v2-49651q43UVMtr9ogA.json\n",
      "house : 0\n"
     ]
    }
   ],
   "source": [
    "import argparse\n",
    "\n",
    "parser = argparse.ArgumentParser(description=\"description\")\n",
    "\n",
    "parser.add_argument('-gf', '--girlfriend', choices=['jingjing', 'lihuan'])\n",
    "parser.add_argument('food')\n",
    "parser.add_argument('--house', type=int, default=0)\n",
    "\n",
    "args = parser.parse_args()\n",
    "print('args :',args)\n",
    "print('girlfriend :', args.girlfriend)\n",
    "print('food :', args.food)\n",
    "print('house :', args.house)"
   ]
  },
  {
   "cell_type": "markdown",
   "metadata": {
    "collapsed": false
   },
   "source": [
    "## 2、参数 action 的使用"
   ]
  },
  {
   "cell_type": "code",
   "execution_count": 5,
   "metadata": {
    "collapsed": false
   },
   "outputs": [
    {
     "name": "stderr",
     "output_type": "stream",
     "text": [
      "usage: ipykernel_launcher.py [-h] [--pa] [--pb]\n",
      "ipykernel_launcher.py: error: unrecognized arguments: --f=/home/zyl/.local/share/jupyter/runtime/kernel-v2-49651q43UVMtr9ogA.json\n"
     ]
    },
    {
     "ename": "SystemExit",
     "evalue": "2",
     "output_type": "error",
     "traceback": [
      "An exception has occurred, use %tb to see the full traceback.\n",
      "\u001b[0;31mSystemExit\u001b[0m\u001b[0;31m:\u001b[0m 2\n"
     ]
    },
    {
     "name": "stderr",
     "output_type": "stream",
     "text": [
      "/home/zyl/anaconda3/envs/d2l/lib/python3.9/site-packages/IPython/core/interactiveshell.py:3558: UserWarning: To exit: use 'exit', 'quit', or Ctrl-D.\n",
      "  warn(\"To exit: use 'exit', 'quit', or Ctrl-D.\", stacklevel=1)\n"
     ]
    }
   ],
   "source": [
    "import argparse\n",
    "\n",
    "parser = argparse.ArgumentParser(description=\"description\")\n",
    "\n",
    "parser.add_argument('--pa', '-a', action='store_true')\n",
    "parser.add_argument('--pb', '-b', action=\"store_false\")\n",
    "args = parser.parse_args()\n",
    "print(args)"
   ]
  },
  {
   "cell_type": "markdown",
   "metadata": {
    "collapsed": false
   },
   "source": [
    "同时指定 参数action 和 参数default 的情况"
   ]
  },
  {
   "cell_type": "code",
   "execution_count": null,
   "metadata": {
    "collapsed": false
   },
   "outputs": [],
   "source": [
    "import argparse\n",
    "\n",
    "parser = argparse.ArgumentParser(description=\"description\")\n",
    "\n",
    "parser.add_argument('--pa','-a',action='store_true')\n",
    "parser.add_argument('--pb','-b',action=\"store_true\",default=True)\n",
    "parser.add_argument('--pc','-c',action=\"store_true\",default=False)\n",
    "\n",
    "parser.add_argument('--pd','-d',action='store_false')\n",
    "parser.add_argument('--pe','-e',action=\"store_false\",default=True)\n",
    "parser.add_argument('--pf','-f',action=\"store_false\",default=False)\n",
    "\n",
    "args = parser.parse_args()\n",
    "print(args)"
   ]
  },
  {
   "cell_type": "markdown",
   "metadata": {
    "collapsed": false
   },
   "source": [
    "## 3、代码实例"
   ]
  },
  {
   "cell_type": "code",
   "execution_count": 6,
   "metadata": {
    "collapsed": false
   },
   "outputs": [
    {
     "name": "stderr",
     "output_type": "stream",
     "text": [
      "usage: ipykernel_launcher.py [-h] [--learning_rate LEARNING_RATE]\n",
      "                             [--batch_size BATCH_SIZE]\n",
      "                             [--iterations ITERATIONS]\n",
      "                             [--log_to_wandb LOG_TO_WANDB]\n",
      "                             [--log_rate LOG_RATE]\n",
      "                             [--checkpoint_rate CHECKPOINT_RATE]\n",
      "                             [--log_dir LOG_DIR] [--project_name PROJECT_NAME]\n",
      "                             [--run_name RUN_NAME]\n",
      "                             [--model_checkpoint MODEL_CHECKPOINT]\n",
      "                             [--optim_checkpoint OPTIM_CHECKPOINT]\n",
      "                             [--schedule_low SCHEDULE_LOW]\n",
      "                             [--schedule_high SCHEDULE_HIGH] [--device DEVICE]\n",
      "                             [--num_timesteps NUM_TIMESTEPS]\n",
      "                             [--schedule SCHEDULE] [--loss_type LOSS_TYPE]\n",
      "                             [--use_labels USE_LABELS]\n",
      "                             [--base_channels BASE_CHANNELS]\n",
      "                             [--channel_mults CHANNEL_MULTS]\n",
      "                             [--num_res_blocks NUM_RES_BLOCKS]\n",
      "                             [--time_emb_dim TIME_EMB_DIM] [--norm NORM]\n",
      "                             [--dropout DROPOUT] [--activation ACTIVATION]\n",
      "                             [--attention_resolutions ATTENTION_RESOLUTIONS]\n",
      "                             [--ema_decay EMA_DECAY]\n",
      "                             [--ema_update_rate EMA_UPDATE_RATE]\n",
      "ipykernel_launcher.py: error: unrecognized arguments: --f=/home/zyl/.local/share/jupyter/runtime/kernel-v2-49651q43UVMtr9ogA.json\n"
     ]
    },
    {
     "ename": "SystemExit",
     "evalue": "2",
     "output_type": "error",
     "traceback": [
      "An exception has occurred, use %tb to see the full traceback.\n",
      "\u001b[0;31mSystemExit\u001b[0m\u001b[0;31m:\u001b[0m 2\n"
     ]
    },
    {
     "name": "stderr",
     "output_type": "stream",
     "text": [
      "/home/zyl/anaconda3/envs/d2l/lib/python3.9/site-packages/IPython/core/interactiveshell.py:3558: UserWarning: To exit: use 'exit', 'quit', or Ctrl-D.\n",
      "  warn(\"To exit: use 'exit', 'quit', or Ctrl-D.\", stacklevel=1)\n"
     ]
    }
   ],
   "source": [
    "import torch\n",
    "import datetime\n",
    "import argparse\n",
    "\n",
    "\n",
    "def diffusion_defaults():\n",
    "    defaults = dict(\n",
    "        num_timesteps=1000,\n",
    "        schedule=\"linear\",\n",
    "        loss_type=\"l2\",\n",
    "        use_labels=False,\n",
    "\n",
    "        base_channels=128,\n",
    "        channel_mults=(1, 2, 2, 2),\n",
    "        num_res_blocks=2,\n",
    "        time_emb_dim=128 * 4,\n",
    "        norm=\"gn\",\n",
    "        dropout=0.1,\n",
    "        activation=\"silu\",\n",
    "        attention_resolutions=(1,),\n",
    "\n",
    "        ema_decay=0.9999,\n",
    "        ema_update_rate=1,\n",
    "    )\n",
    "    return defaults\n",
    "\n",
    "\n",
    "def add_dict_to_argparser(parser, default_dict):\n",
    "    for k, v in default_dict.items():\n",
    "        v_type = type(v)\n",
    "        if v is None:\n",
    "            v_type = str\n",
    "        parser.add_argument(f\"--{k}\", default=v, type=v_type)\n",
    "\n",
    "\n",
    "def create_argparser():\n",
    "    device = torch.device(\"cuda\") if torch.cuda.is_available() else torch.device(\"cpu\")\n",
    "    run_name = datetime.datetime.now().strftime(\"ddpm-%Y-%m-%d-%H-%M\")\n",
    "    defaults = dict(\n",
    "        learning_rate=2e-4,\n",
    "        batch_size=2,\n",
    "        iterations=800000,\n",
    "\n",
    "        log_to_wandb=True,\n",
    "        log_rate=1000,\n",
    "        checkpoint_rate=1000,\n",
    "        log_dir=\"~/ddpm_logs\",\n",
    "        project_name=\"Enzo_ddpm\",\n",
    "        run_name=run_name,\n",
    "\n",
    "        model_checkpoint=None,\n",
    "        optim_checkpoint=None,\n",
    "\n",
    "        schedule_low=1e-4,\n",
    "        schedule_high=0.02,\n",
    "\n",
    "        device=device,\n",
    "    )\n",
    "    defaults.update(diffusion_defaults())\n",
    "    parser = argparse.ArgumentParser()\n",
    "    add_dict_to_argparser(parser, defaults)\n",
    "    return parser\n",
    "\n",
    "\n",
    "if __name__ == '__main__':\n",
    "    args = create_argparser().parse_args()\n",
    "    print(args)"
   ]
  }
 ],
 "metadata": {
  "kernelspec": {
   "display_name": "Python 3",
   "language": "python",
   "name": "python3"
  },
  "language_info": {
   "codemirror_mode": {
    "name": "ipython",
    "version": 3
   },
   "file_extension": ".py",
   "mimetype": "text/x-python",
   "name": "python",
   "nbconvert_exporter": "python",
   "pygments_lexer": "ipython3",
   "version": "3.9.18"
  }
 },
 "nbformat": 4,
 "nbformat_minor": 0
}
